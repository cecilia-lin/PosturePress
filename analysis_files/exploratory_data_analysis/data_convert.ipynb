{
 "cells": [
  {
   "cell_type": "code",
   "execution_count": 8,
   "metadata": {},
   "outputs": [],
   "source": [
    "import pandas as pd\n",
    "import numpy as np\n",
    "import matplotlib.pyplot as plt\n",
    "import glob\n",
    "import os\n",
    "import json\n"
   ]
  },
  {
   "cell_type": "code",
   "execution_count": 10,
   "metadata": {},
   "outputs": [],
   "source": [
    "experiment_folder = \"../data/experiment-i\"\n",
    "subject_info_csv = \"../data/subject_info.csv\"  # Ensure this file contains height & weight data\n",
    "\n",
    "\n",
    "df_subjects = pd.read_csv(subject_info_csv)  # Expected: Subject-Number, Height, Weight\n",
    "df_subjects[\"Subject-Number\"] = df_subjects[\"Subject-Number\"].apply(lambda x: f\"S{x}\")  # Convert to \"S1\", \"S2\", etc.\n",
    "\n",
    "subject_data = []\n",
    "\n",
    "subject_folders = sorted(\n",
    "    [f for f in glob.glob(os.path.join(experiment_folder, \"S*\")) if os.path.isdir(f)]\n",
    ")\n",
    "\n",
    "for subject_path in subject_folders:\n",
    "    subject_id = os.path.basename(subject_path)  # Extract \"S1\", \"S2\", etc.\n",
    "\n",
    "    # Retrieve height & weight for the subject\n",
    "    subject_info = df_subjects[df_subjects[\"Subject-Number\"] == subject_id]\n",
    "\n",
    "    height = int(subject_info[\"Height/cm\"].values[0])\n",
    "    weight = int(subject_info[\"Weight/kg\"].values[0])\n",
    "\n",
    "    subject_entry = {\n",
    "        \"subject\": subject_id,\n",
    "        \"height\": height,\n",
    "        \"weight\": weight\n",
    "    }\n",
    "\n",
    "    for posture_id in [\"1\", \"2\", \"3\"]:\n",
    "        txt_file = os.path.join(subject_path, f\"{posture_id}.txt\")\n",
    "\n",
    "        # Read and process file\n",
    "        frames = []\n",
    "        with open(txt_file, \"r\") as f:\n",
    "            for line in f:\n",
    "                line = line.strip()\n",
    "                if line and not any(c.isalpha() for c in line):  # Ignore headers, non-numeric lines\n",
    "                    frames.append([float(x) for x in line.split(\"\\t\")])  # Convert row into a list of floats\n",
    "\n",
    "        # Convert to NumPy array and apply pressure conversion (0-1000 → 0-100 mmHg)\n",
    "        frames_array = np.array(frames) * 0.1  # Convert pressure values to mmHg\n",
    "        num_frames = frames_array.shape[0]\n",
    "\n",
    "        if num_frames > 2:  # Ensure at least 3 frames exist\n",
    "            frames_array = frames_array[2:]  # Start from frame 3\n",
    "            avg_frame = np.mean(frames_array, axis=0)  # Compute average frame\n",
    "\n",
    "            avg_frame_reshaped = avg_frame.reshape(64, 32).tolist()\n",
    "\n",
    "            # Store average frame in subject dictionary\n",
    "            subject_entry[f\"posture{posture_id}\"] = avg_frame_reshaped\n",
    "\n",
    "    # Append subject entry to final JSON structure\n",
    "    subject_data.append(subject_entry)\n",
    "\n",
    "\n",
    "output_json_file = \"../data/experiment1_data.json\"\n",
    "with open(output_json_file, \"w\") as json_file:\n",
    "    json.dump(subject_data, json_file, indent=4)\n"
   ]
  },
  {
   "cell_type": "code",
   "execution_count": null,
   "metadata": {},
   "outputs": [],
   "source": []
  }
 ],
 "metadata": {
  "kernelspec": {
   "display_name": "Python 3",
   "language": "python",
   "name": "python3"
  },
  "language_info": {
   "codemirror_mode": {
    "name": "ipython",
    "version": 3
   },
   "file_extension": ".py",
   "mimetype": "text/x-python",
   "name": "python",
   "nbconvert_exporter": "python",
   "pygments_lexer": "ipython3",
   "version": "3.13.0"
  }
 },
 "nbformat": 4,
 "nbformat_minor": 2
}
